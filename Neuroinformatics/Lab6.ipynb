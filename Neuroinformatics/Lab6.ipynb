{
  "nbformat": 4,
  "nbformat_minor": 0,
  "metadata": {
    "colab": {
      "provenance": []
    },
    "kernelspec": {
      "name": "python3",
      "display_name": "Python 3"
    },
    "language_info": {
      "name": "python"
    }
  },
  "cells": [
    {
      "cell_type": "markdown",
      "source": [
        "**ЛР 6**  \n",
        "**Вариант 20**"
      ],
      "metadata": {
        "id": "vkSsguOD36qo"
      }
    },
    {
      "cell_type": "markdown",
      "source": [
        "![image.png](data:image/png;base64,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)"
      ],
      "metadata": {
        "id": "R5lKENDx4kDk"
      }
    },
    {
      "cell_type": "code",
      "execution_count": 312,
      "metadata": {
        "id": "fc3pYwah1AjU"
      },
      "outputs": [],
      "source": [
        "import math\n",
        "import numpy as np\n",
        "import matplotlib.pyplot as plt\n",
        "import time\n",
        "import random\n",
        "from timeit import default_timer as timer\n",
        "from IPython.display import Image\n",
        "import imageio"
      ]
    },
    {
      "cell_type": "code",
      "source": [
        "train_data = [[0.8, -0.4]], [[0.7, 1.1]], [[-0.8, -1.2]], [[-0.9, -0.5]], [[-0.7, 1.2]], [[-1.4, 0.2]], [[-1.1, 1]], [[-1, 0]], [[1.4, -0.5]], [[-1.4, -0.9]], [[-0.4, -0.5]], [[-0.9, 1.3]]\n",
        "classes = np.array(([1, 1, 1, -1, 1, -1, 1, -1, 1, -1, 1, 1]))"
      ],
      "metadata": {
        "id": "b_dbOgj35C8N"
      },
      "execution_count": 313,
      "outputs": []
    },
    {
      "cell_type": "code",
      "source": [
        "train_data = []\n",
        "train_data += [[0.8, -0.4]]\n",
        "train_data += [[0.7, 1.1]]\n",
        "train_data += [[-0.8, -1.2]]\n",
        "train_data += [[-0.9, -0.5]]\n",
        "train_data += [[-0.7, 1.2]]\n",
        "train_data += [[-1.4, 0.2]]\n",
        "train_data += [[-1.1, 1]]\n",
        "train_data += [[-1, 0]]\n",
        "train_data += [[1.4, -0.5]]\n",
        "train_data += [[-1.4, -0.9]]\n",
        "train_data += [[-0.4, -0.5]]\n",
        "train_data += [[-0.9, 1.3]]"
      ],
      "metadata": {
        "id": "DX3tJjkOsQvW"
      },
      "execution_count": 314,
      "outputs": []
    },
    {
      "cell_type": "code",
      "source": [
        "for i in range(len(classes)):\n",
        "  if classes[i] > 0:\n",
        "    plt.scatter(train_data[i][0], train_data[i][1], color='blue')\n",
        "  else:\n",
        "    plt.scatter(train_data[i][0], train_data[i][1], color='red')\n",
        "plt.show()"
      ],
      "metadata": {
        "colab": {
          "base_uri": "https://localhost:8080/",
          "height": 265
        },
        "id": "VHf1AFFp8K9G",
        "outputId": "18c0627e-fa0a-4fcb-bc83-610d6671c2d8"
      },
      "execution_count": 315,
      "outputs": [
        {
          "output_type": "display_data",
          "data": {
            "text/plain": [
              "<Figure size 432x288 with 1 Axes>"
            ],
            "image/png": "[encoded data removed]"
          },
          "metadata": {
            "needs_background": "light"
          }
        }
      ]
    },
    {
      "cell_type": "code",
      "source": [
        "class Kohonen:\n",
        "    def __init__(self, dim, nodes_count, lr, nodes, r):\n",
        "         self.dim = dim\n",
        "         self.lr = lr\n",
        "         self.nodes_count = nodes_count\n",
        "         self.r = r\n",
        "         self.nodes = nodes.copy()\n",
        "\n",
        "\n",
        "    def fit(self, data, epochs):\n",
        "        rcpy = self.r\n",
        "        lrcpy = self.lr\n",
        "        for e in range(epochs):\n",
        "            np.random.shuffle(data)\n",
        "            for i in range(len(data)):\n",
        "                min_dist = np.sqrt(np.sum((data[i] - self.nodes[0]) ** 2))\n",
        "                index_min_node = 0\n",
        "                for j in range(self.nodes_count):\n",
        "                        dist = np.sqrt(np.sum((data[i] - self.nodes[j]) ** 2))\n",
        "                        if (min_dist > dist):\n",
        "                            min_dist = dist\n",
        "                            index_min_node = j\n",
        "                for j in range(self.nodes_count):\n",
        "                    dist = np.sqrt(np.sum((self.nodes[index_min_node] - self.nodes[j]) ** 2))\n",
        "                    if  dist < self.r:\n",
        "                        self.nodes[j] += self.lr * np.exp(- dist / (2 * self.r)) * (- self.nodes[j] + data[i])\n",
        "            self.lr = max(0.01, lrcpy * np.exp(-(e + 1) / epochs))\n",
        "            self.r = rcpy * np.exp(- (e + 1) * np.log(rcpy) / epochs)"
      ],
      "metadata": {
        "id": "oxjE241kAqRm"
      },
      "execution_count": 321,
      "outputs": []
    },
    {
      "cell_type": "code",
      "source": [
        "nepoch = 500"
      ],
      "metadata": {
        "id": "364uIY7UAqOr"
      },
      "execution_count": 322,
      "outputs": []
    },
    {
      "cell_type": "code",
      "source": [
        "data = np.array(([[0.0, 1], [0.1, 0.9], [-0.1, 0.9], [-0.8, 0.1], [-0.9, 0.0], [-0.7, 0.0], [1, -1.0], [1.1, -1.1], [1.2, -1.0]]))\n",
        "nodes = np.array([[0.0, 0.5], [0.5, -0.5], [1, 1], [1, 1], [0.0, 0.0]], dtype = float)"
      ],
      "metadata": {
        "id": "skxlfARUA2bD"
      },
      "execution_count": 323,
      "outputs": []
    },
    {
      "cell_type": "code",
      "source": [
        "plt.scatter(data[:, 0], data[:, 1])\n",
        "plt.scatter(nodes[:, 0], nodes[:, 1])\n",
        "\n",
        "plt.show()"
      ],
      "metadata": {
        "colab": {
          "base_uri": "https://localhost:8080/",
          "height": 265
        },
        "id": "-SSYzhsNAqMi",
        "outputId": "00aa149a-acf4-49de-abf9-5ff79b9775f9"
      },
      "execution_count": 324,
      "outputs": [
        {
          "output_type": "display_data",
          "data": {
            "text/plain": [
              "<Figure size 432x288 with 1 Axes>"
            ],
            "image/png": "[encoded data removed]"
          },
          "metadata": {
            "needs_background": "light"
          }
        }
      ]
    },
    {
      "cell_type": "code",
      "source": [
        "kohonen = Kohonen(dim = 2, nodes_count = 5, lr = 1, nodes = nodes, r = 0.5)\n",
        "kohonen.fit(data, nepoch)"
      ],
      "metadata": {
        "id": "ROVbpREAAqJq"
      },
      "execution_count": 325,
      "outputs": []
    },
    {
      "cell_type": "code",
      "source": [
        "plt.scatter(data[:, 0], data[:, 1])\n",
        "plt.scatter(kohonen.nodes[:, 0], kohonen.nodes[:, 1])\n",
        "\n",
        "plt.show()"
      ],
      "metadata": {
        "colab": {
          "base_uri": "https://localhost:8080/",
          "height": 265
        },
        "id": "dj_ABp-EAqD_",
        "outputId": "db512e9d-d27b-40d7-cf99-c793f5136d88"
      },
      "execution_count": 326,
      "outputs": [
        {
          "output_type": "display_data",
          "data": {
            "text/plain": [
              "<Figure size 432x288 with 1 Axes>"
            ],
            "image/png": "[encoded data removed]"
          },
          "metadata": {
            "needs_background": "light"
          }
        }
      ]
    },
    {
      "cell_type": "code",
      "source": [
        "nepoch = 200"
      ],
      "metadata": {
        "id": "XMpiIPuoZWax"
      },
      "execution_count": 327,
      "outputs": []
    },
    {
      "cell_type": "code",
      "source": [
        "def func1(x):\n",
        "  return (x + 1) ** 2\n",
        "\n",
        "def func_nodes(x):\n",
        "  return x ** 2  + 2 * x + 0.5"
      ],
      "metadata": {
        "id": "BYXLXGy6Vgpp"
      },
      "execution_count": 328,
      "outputs": []
    },
    {
      "cell_type": "code",
      "source": [
        "x = np.arange(0, np.pi / 2, 0.01)\n",
        "y = func1(x)\n",
        "xy_vals =  np.c_[x, y]\n",
        "x_nodes = np.arange(0, np.pi / 2, 0.1)\n",
        "y_nodes = func_nodes(x_nodes)\n",
        "xy_nodes = np.c_[x_nodes, y_nodes]"
      ],
      "metadata": {
        "id": "7CJRjO9BVnLv"
      },
      "execution_count": 329,
      "outputs": []
    },
    {
      "cell_type": "code",
      "source": [
        "kohonen = Kohonen(dim = 2, nodes_count = len(xy_nodes), lr = 1, nodes = xy_nodes, r = 0.01)\n",
        "kohonen.fit(xy_vals, nepoch)"
      ],
      "metadata": {
        "id": "OVIRXRgKV8Ik"
      },
      "execution_count": 330,
      "outputs": []
    },
    {
      "cell_type": "code",
      "source": [
        "plt.scatter(xy_vals[:, 0], xy_vals[:, 1])\n",
        "plt.scatter(kohonen.nodes[:, 0], kohonen.nodes[:, 1])\n",
        "\n",
        "plt.show()"
      ],
      "metadata": {
        "colab": {
          "base_uri": "https://localhost:8080/",
          "height": 265
        },
        "id": "I1BMXLqiYauH",
        "outputId": "36b49ef6-c1fd-4d43-d347-43ac76742d8a"
      },
      "execution_count": 331,
      "outputs": [
        {
          "output_type": "display_data",
          "data": {
            "text/plain": [
              "<Figure size 432x288 with 1 Axes>"
            ],
            "image/png": "[encoded data removed]"
          },
          "metadata": {
            "needs_background": "light"
          }
        }
      ]
    },
    {
      "cell_type": "code",
      "source": [
        "def func1(x):\n",
        "  return  2 * x\n",
        "\n",
        "def func_nodes(x):\n",
        "  return 2.5 * x"
      ],
      "metadata": {
        "id": "AIiC4hpPYuf3"
      },
      "execution_count": 332,
      "outputs": []
    },
    {
      "cell_type": "code",
      "source": [
        "x = np.arange(0, 2, 0.01)\n",
        "y = func1(x)\n",
        "xy_vals =  np.c_[x, y]\n",
        "x_nodes = np.arange(0, 2, 0.1)\n",
        "y_nodes = func_nodes(x_nodes)\n",
        "xy_nodes = np.c_[x_nodes, y_nodes]"
      ],
      "metadata": {
        "id": "lkUiyw1fd1RY"
      },
      "execution_count": 333,
      "outputs": []
    },
    {
      "cell_type": "code",
      "source": [
        "kohonen = Kohonen(dim = 2, nodes_count = len(xy_nodes), lr = 1, nodes = xy_nodes, r = 0.01)\n",
        "kohonen.fit(xy_vals, nepoch)"
      ],
      "metadata": {
        "id": "-JF7PFY0d_9g"
      },
      "execution_count": 334,
      "outputs": []
    },
    {
      "cell_type": "code",
      "source": [
        "plt.scatter(xy_vals[:, 0], xy_vals[:, 1])\n",
        "plt.scatter(kohonen.nodes[:, 0], kohonen.nodes[:, 1])\n",
        "\n",
        "plt.show()"
      ],
      "metadata": {
        "colab": {
          "base_uri": "https://localhost:8080/",
          "height": 265
        },
        "id": "0uYThsiCeT1p",
        "outputId": "0c025390-6def-4747-ff14-ac976eae8db0"
      },
      "execution_count": 335,
      "outputs": [
        {
          "output_type": "display_data",
          "data": {
            "text/plain": [
              "<Figure size 432x288 with 1 Axes>"
            ],
            "image/png": "[encoded data removed]"
          },
          "metadata": {
            "needs_background": "light"
          }
        }
      ]
    },
    {
      "cell_type": "code",
      "source": [],
      "metadata": {
        "id": "qtG8RIiHeUKX"
      },
      "execution_count": 335,
      "outputs": []
    }
  ]
}