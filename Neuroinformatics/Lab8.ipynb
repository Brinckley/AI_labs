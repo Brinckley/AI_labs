{
  "nbformat": 4,
  "nbformat_minor": 0,
  "metadata": {
    "colab": {
      "provenance": []
    },
    "kernelspec": {
      "name": "python3",
      "display_name": "Python 3"
    },
    "language_info": {
      "name": "python"
    }
  },
  "cells": [
    {
      "cell_type": "markdown",
      "source": [
        "**Савин Александр**  \n",
        "**Вариант 20**  \n",
        "**Лабороторная работа номер 8**"
      ],
      "metadata": {
        "id": "C4qXnPJfavxB"
      }
    },
    {
      "cell_type": "code",
      "execution_count": null,
      "metadata": {
        "id": "393YxR0zarcy"
      },
      "outputs": [],
      "source": [
        "import torch\n",
        "import torch.nn as nn\n",
        "import torch.optim as optim\n",
        "from tqdm import tqdm\n",
        "from collections import deque\n",
        "\n",
        "import math\n",
        "import numpy as np\n",
        "import matplotlib.pyplot as plt\n",
        "import time\n",
        "import random"
      ]
    },
    {
      "cell_type": "code",
      "source": [
        "class TDL(nn.Module):\n",
        "  def __init__(self, in_features, delays=1):\n",
        "    super(TDL, self).__init__()\n",
        "    self.in_features = in_features\n",
        "    self.delays = delays\n",
        "    self.line = deque()\n",
        "    self.clear()\n",
        "\n",
        "  def clear(self):\n",
        "    self.line.clear()\n",
        "    for i in range(self.delays):\n",
        "      self.line.append(torch.zeros(self.in_features))\n",
        "\n",
        "  def push(self, inputs):\n",
        "    self.line.appendleft(inputs)\n",
        "\n",
        "  def forward(self, inputs=0):\n",
        "    return self.line.pop()"
      ],
      "metadata": {
        "id": "gDGsdFwHaxRS"
      },
      "execution_count": null,
      "outputs": []
    },
    {
      "cell_type": "code",
      "source": [
        "class NARX(nn.Module):\n",
        "  def __init__(self, in_features, hi_features, out_features, delay1, delay2):\n",
        "    super(NARX, self).__init__()\n",
        "    self.in_features = in_features\n",
        "    self.hi_features = hi_features\n",
        "    self.out_features = out_features\n",
        "    self.line1 = TDL(in_features, delay1)\n",
        "    self.line2 = TDL(out_features, delay2)\n",
        "    self.w1 = torch.nn.Parameter(torch.randn(in_features, hi_features))\n",
        "    self.w2 = torch.nn.Parameter(torch.randn(hi_features, out_features))\n",
        "    self.w3 = torch.nn.Parameter(torch.randn(out_features, hi_features))\n",
        "    self.b1 = torch.nn.Parameter(torch.ones(hi_features))\n",
        "    self.b2 = torch.nn.Parameter(torch.ones(out_features))\n",
        "\n",
        "  def clear(self):\n",
        "    self.line1.clear()\n",
        "    self.line2.clear()\n",
        "\n",
        "  def forward(self, inputs):\n",
        "    out1 = torch.tanh(self.line1() @ self.w1 + self.line2() @ self.w3 + self.b1)\n",
        "    out2 = out1 @ self.w2 + self.b2\n",
        "    self.line1.push(torch.tensor(inputs))\n",
        "    self.line2.push(torch.tensor(out2))\n",
        "    return out2"
      ],
      "metadata": {
        "id": "9IZUarUCb82V"
      },
      "execution_count": null,
      "outputs": []
    },
    {
      "cell_type": "markdown",
      "source": [
        "![image.png](data:image/png;base64,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)"
      ],
      "metadata": {
        "id": "K8gLAd55uqu6"
      }
    },
    {
      "cell_type": "markdown",
      "source": [
        "![image.png](data:image/png;base64,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)"
      ],
      "metadata": {
        "id": "LGMQp-kOmV0m"
      }
    },
    {
      "cell_type": "code",
      "source": [
        "model = NARX(5, 10, 5, 3, 3)\n",
        "optimizer = optim.Adam(model.parameters(), lr = 1e-3)\n",
        "epochs = 100\n",
        "w = 5\n",
        "\n",
        "k = np.arange(0, 10, 0.01)\n",
        "N = len(k)\n",
        "uk, yk = np.cos(k**2 - 2 * k + 3), [0]\n",
        "\n",
        "for i in range(N-1):\n",
        "  yk += [yk[-1] / (1 + yk[-1]**2) + uk[i] ** 3]"
      ],
      "metadata": {
        "id": "dVgi9c6bcKPY"
      },
      "execution_count": null,
      "outputs": []
    },
    {
      "cell_type": "code",
      "source": [
        "train_data = [(np.array(uk[i:i+w], dtype=np.float32),\n",
        "               np.array(yk[i:i+w], dtype=np.float32)) for i in range(N-5)]\n",
        "train_loader = torch.utils.data.DataLoader(dataset=train_data, batch_size=1, shuffle=False)"
      ],
      "metadata": {
        "id": "sY-67cD2f5hZ"
      },
      "execution_count": null,
      "outputs": []
    },
    {
      "cell_type": "code",
      "source": [
        "model.train()"
      ],
      "metadata": {
        "colab": {
          "base_uri": "https://localhost:8080/"
        },
        "id": "fes7Psxmf1UR",
        "outputId": "26c1455b-fe99-4fd9-b64d-424a214ed5a5"
      },
      "execution_count": null,
      "outputs": [
        {
          "output_type": "execute_result",
          "data": {
            "text/plain": [
              "NARX(\n",
              "  (line1): TDL()\n",
              "  (line2): TDL()\n",
              ")"
            ]
          },
          "metadata": {},
          "execution_count": 32
        }
      ]
    },
    {
      "cell_type": "code",
      "source": [
        "train_loss = []\n",
        "\n",
        "for i in range(epochs):\n",
        "  pbar = tqdm(enumerate(train_loader))\n",
        "  model.clear()\n",
        "  epoch_loss = []\n",
        "\n",
        "  for _, (inputs, outputs_gt) in pbar:\n",
        "    outputs = model(inputs)\n",
        "\n",
        "    crit = nn.MSELoss()\n",
        "    loss = torch.sqrt(crit(outputs_gt, outputs))\n",
        "    epoch_loss += [loss.item()]\n",
        "\n",
        "    optimizer.zero_grad()\n",
        "    loss.backward()\n",
        "    optimizer.step()\n",
        "  \n",
        "  train_loss += [np.mean(epoch_loss)]\n",
        "  pbar.write(' %d. loss: %f' % (i + 1, train_loss[-1]))"
      ],
      "metadata": {
        "colab": {
          "base_uri": "https://localhost:8080/"
        },
        "id": "q4hKpp4lf3A-",
        "outputId": "398270ac-882e-40a5-c5ce-94088b22a07d"
      },
      "execution_count": null,
      "outputs": [
        {
          "output_type": "stream",
          "name": "stderr",
          "text": [
            "0it [00:00, ?it/s]<ipython-input-3-492d5e9e5777>:22: UserWarning: To copy construct from a tensor, it is recommended to use sourceTensor.clone().detach() or sourceTensor.clone().detach().requires_grad_(True), rather than torch.tensor(sourceTensor).\n",
            "  self.line1.push(torch.tensor(inputs))\n",
            "<ipython-input-3-492d5e9e5777>:23: UserWarning: To copy construct from a tensor, it is recommended to use sourceTensor.clone().detach() or sourceTensor.clone().detach().requires_grad_(True), rather than torch.tensor(sourceTensor).\n",
            "  self.line2.push(torch.tensor(out2))\n",
            "/usr/local/lib/python3.8/dist-packages/torch/nn/modules/loss.py:536: UserWarning: Using a target size (torch.Size([5])) that is different to the input size (torch.Size([1, 5])). This will likely lead to incorrect results due to broadcasting. Please ensure they have the same size.\n",
            "  return F.mse_loss(input, target, reduction=self.reduction)\n",
            "995it [00:00, 1006.33it/s]\n"
          ]
        },
        {
          "output_type": "stream",
          "name": "stdout",
          "text": [
            " 1. loss: 2.215252\n"
          ]
        },
        {
          "output_type": "stream",
          "name": "stderr",
          "text": [
            "995it [00:00, 1049.95it/s]\n"
          ]
        },
        {
          "output_type": "stream",
          "name": "stdout",
          "text": [
            " 2. loss: 0.837006\n"
          ]
        },
        {
          "output_type": "stream",
          "name": "stderr",
          "text": [
            "995it [00:00, 1083.26it/s]\n"
          ]
        },
        {
          "output_type": "stream",
          "name": "stdout",
          "text": [
            " 3. loss: 0.422457\n"
          ]
        },
        {
          "output_type": "stream",
          "name": "stderr",
          "text": [
            "995it [00:00, 1089.62it/s]\n"
          ]
        },
        {
          "output_type": "stream",
          "name": "stdout",
          "text": [
            " 4. loss: 0.291831\n"
          ]
        },
        {
          "output_type": "stream",
          "name": "stderr",
          "text": [
            "995it [00:00, 1047.03it/s]\n"
          ]
        },
        {
          "output_type": "stream",
          "name": "stdout",
          "text": [
            " 5. loss: 0.247677\n"
          ]
        },
        {
          "output_type": "stream",
          "name": "stderr",
          "text": [
            "995it [00:00, 1065.32it/s]\n"
          ]
        },
        {
          "output_type": "stream",
          "name": "stdout",
          "text": [
            " 6. loss: 0.197995\n"
          ]
        },
        {
          "output_type": "stream",
          "name": "stderr",
          "text": [
            "995it [00:01, 761.24it/s]\n"
          ]
        },
        {
          "output_type": "stream",
          "name": "stdout",
          "text": [
            " 7. loss: 0.179750\n"
          ]
        },
        {
          "output_type": "stream",
          "name": "stderr",
          "text": [
            "995it [00:00, 1057.58it/s]\n"
          ]
        },
        {
          "output_type": "stream",
          "name": "stdout",
          "text": [
            " 8. loss: 0.169423\n"
          ]
        },
        {
          "output_type": "stream",
          "name": "stderr",
          "text": [
            "995it [00:00, 1073.63it/s]\n"
          ]
        },
        {
          "output_type": "stream",
          "name": "stdout",
          "text": [
            " 9. loss: 0.161788\n"
          ]
        },
        {
          "output_type": "stream",
          "name": "stderr",
          "text": [
            "995it [00:00, 1079.88it/s]\n"
          ]
        },
        {
          "output_type": "stream",
          "name": "stdout",
          "text": [
            " 10. loss: 0.155099\n"
          ]
        },
        {
          "output_type": "stream",
          "name": "stderr",
          "text": [
            "995it [00:00, 1092.79it/s]\n"
          ]
        },
        {
          "output_type": "stream",
          "name": "stdout",
          "text": [
            " 11. loss: 0.148491\n"
          ]
        },
        {
          "output_type": "stream",
          "name": "stderr",
          "text": [
            "995it [00:00, 1065.76it/s]\n"
          ]
        },
        {
          "output_type": "stream",
          "name": "stdout",
          "text": [
            " 12. loss: 0.141150\n"
          ]
        },
        {
          "output_type": "stream",
          "name": "stderr",
          "text": [
            "995it [00:00, 1025.02it/s]\n"
          ]
        },
        {
          "output_type": "stream",
          "name": "stdout",
          "text": [
            " 13. loss: 0.135230\n"
          ]
        },
        {
          "output_type": "stream",
          "name": "stderr",
          "text": [
            "995it [00:00, 995.14it/s]\n"
          ]
        },
        {
          "output_type": "stream",
          "name": "stdout",
          "text": [
            " 14. loss: 0.129710\n"
          ]
        },
        {
          "output_type": "stream",
          "name": "stderr",
          "text": [
            "995it [00:00, 1109.62it/s]\n"
          ]
        },
        {
          "output_type": "stream",
          "name": "stdout",
          "text": [
            " 15. loss: 0.124664\n"
          ]
        },
        {
          "output_type": "stream",
          "name": "stderr",
          "text": [
            "995it [00:00, 1086.86it/s]\n"
          ]
        },
        {
          "output_type": "stream",
          "name": "stdout",
          "text": [
            " 16. loss: 0.120400\n"
          ]
        },
        {
          "output_type": "stream",
          "name": "stderr",
          "text": [
            "995it [00:00, 1075.73it/s]\n"
          ]
        },
        {
          "output_type": "stream",
          "name": "stdout",
          "text": [
            " 17. loss: 0.116516\n"
          ]
        },
        {
          "output_type": "stream",
          "name": "stderr",
          "text": [
            "995it [00:00, 1021.06it/s]\n"
          ]
        },
        {
          "output_type": "stream",
          "name": "stdout",
          "text": [
            " 18. loss: 0.112884\n"
          ]
        },
        {
          "output_type": "stream",
          "name": "stderr",
          "text": [
            "995it [00:00, 1056.95it/s]\n"
          ]
        },
        {
          "output_type": "stream",
          "name": "stdout",
          "text": [
            " 19. loss: 0.109656\n"
          ]
        },
        {
          "output_type": "stream",
          "name": "stderr",
          "text": [
            "995it [00:00, 1076.18it/s]\n"
          ]
        },
        {
          "output_type": "stream",
          "name": "stdout",
          "text": [
            " 20. loss: 0.106777\n"
          ]
        },
        {
          "output_type": "stream",
          "name": "stderr",
          "text": [
            "995it [00:00, 1044.43it/s]\n"
          ]
        },
        {
          "output_type": "stream",
          "name": "stdout",
          "text": [
            " 21. loss: 0.103996\n"
          ]
        },
        {
          "output_type": "stream",
          "name": "stderr",
          "text": [
            "995it [00:00, 998.46it/s]\n"
          ]
        },
        {
          "output_type": "stream",
          "name": "stdout",
          "text": [
            " 22. loss: 0.102172\n"
          ]
        },
        {
          "output_type": "stream",
          "name": "stderr",
          "text": [
            "995it [00:01, 990.71it/s] \n"
          ]
        },
        {
          "output_type": "stream",
          "name": "stdout",
          "text": [
            " 23. loss: 0.100995\n"
          ]
        },
        {
          "output_type": "stream",
          "name": "stderr",
          "text": [
            "995it [00:00, 1001.76it/s]\n"
          ]
        },
        {
          "output_type": "stream",
          "name": "stdout",
          "text": [
            " 24. loss: 0.100386\n"
          ]
        },
        {
          "output_type": "stream",
          "name": "stderr",
          "text": [
            "995it [00:00, 1020.63it/s]\n"
          ]
        },
        {
          "output_type": "stream",
          "name": "stdout",
          "text": [
            " 25. loss: 0.099726\n"
          ]
        },
        {
          "output_type": "stream",
          "name": "stderr",
          "text": [
            "995it [00:00, 1020.79it/s]\n"
          ]
        },
        {
          "output_type": "stream",
          "name": "stdout",
          "text": [
            " 26. loss: 0.099258\n"
          ]
        },
        {
          "output_type": "stream",
          "name": "stderr",
          "text": [
            "995it [00:01, 990.50it/s] \n"
          ]
        },
        {
          "output_type": "stream",
          "name": "stdout",
          "text": [
            " 27. loss: 0.098815\n"
          ]
        },
        {
          "output_type": "stream",
          "name": "stderr",
          "text": [
            "995it [00:00, 1004.73it/s]\n"
          ]
        },
        {
          "output_type": "stream",
          "name": "stdout",
          "text": [
            " 28. loss: 0.098815\n"
          ]
        },
        {
          "output_type": "stream",
          "name": "stderr",
          "text": [
            "995it [00:00, 1065.58it/s]\n"
          ]
        },
        {
          "output_type": "stream",
          "name": "stdout",
          "text": [
            " 29. loss: 0.098922\n"
          ]
        },
        {
          "output_type": "stream",
          "name": "stderr",
          "text": [
            "995it [00:00, 1015.71it/s]\n"
          ]
        },
        {
          "output_type": "stream",
          "name": "stdout",
          "text": [
            " 30. loss: 0.098928\n"
          ]
        },
        {
          "output_type": "stream",
          "name": "stderr",
          "text": [
            "995it [00:00, 1002.54it/s]\n"
          ]
        },
        {
          "output_type": "stream",
          "name": "stdout",
          "text": [
            " 31. loss: 0.098660\n"
          ]
        },
        {
          "output_type": "stream",
          "name": "stderr",
          "text": [
            "995it [00:00, 1004.31it/s]\n"
          ]
        },
        {
          "output_type": "stream",
          "name": "stdout",
          "text": [
            " 32. loss: 0.099312\n"
          ]
        },
        {
          "output_type": "stream",
          "name": "stderr",
          "text": [
            "995it [00:00, 1054.51it/s]\n"
          ]
        },
        {
          "output_type": "stream",
          "name": "stdout",
          "text": [
            " 33. loss: 0.099268\n"
          ]
        },
        {
          "output_type": "stream",
          "name": "stderr",
          "text": [
            "995it [00:00, 1037.08it/s]\n"
          ]
        },
        {
          "output_type": "stream",
          "name": "stdout",
          "text": [
            " 34. loss: 0.098483\n"
          ]
        },
        {
          "output_type": "stream",
          "name": "stderr",
          "text": [
            "995it [00:01, 941.72it/s]\n"
          ]
        },
        {
          "output_type": "stream",
          "name": "stdout",
          "text": [
            " 35. loss: 0.097279\n"
          ]
        },
        {
          "output_type": "stream",
          "name": "stderr",
          "text": [
            "995it [00:01, 991.36it/s] \n"
          ]
        },
        {
          "output_type": "stream",
          "name": "stdout",
          "text": [
            " 36. loss: 0.097456\n"
          ]
        },
        {
          "output_type": "stream",
          "name": "stderr",
          "text": [
            "995it [00:01, 992.65it/s]\n"
          ]
        },
        {
          "output_type": "stream",
          "name": "stdout",
          "text": [
            " 37. loss: 0.097780\n"
          ]
        },
        {
          "output_type": "stream",
          "name": "stderr",
          "text": [
            "995it [00:01, 994.29it/s]\n"
          ]
        },
        {
          "output_type": "stream",
          "name": "stdout",
          "text": [
            " 38. loss: 0.095787\n"
          ]
        },
        {
          "output_type": "stream",
          "name": "stderr",
          "text": [
            "995it [00:00, 1058.69it/s]\n"
          ]
        },
        {
          "output_type": "stream",
          "name": "stdout",
          "text": [
            " 39. loss: 0.096916\n"
          ]
        },
        {
          "output_type": "stream",
          "name": "stderr",
          "text": [
            "995it [00:00, 1076.21it/s]\n"
          ]
        },
        {
          "output_type": "stream",
          "name": "stdout",
          "text": [
            " 40. loss: 0.096442\n"
          ]
        },
        {
          "output_type": "stream",
          "name": "stderr",
          "text": [
            "995it [00:00, 1099.70it/s]\n"
          ]
        },
        {
          "output_type": "stream",
          "name": "stdout",
          "text": [
            " 41. loss: 0.095641\n"
          ]
        },
        {
          "output_type": "stream",
          "name": "stderr",
          "text": [
            "995it [00:00, 1052.25it/s]\n"
          ]
        },
        {
          "output_type": "stream",
          "name": "stdout",
          "text": [
            " 42. loss: 0.095516\n"
          ]
        },
        {
          "output_type": "stream",
          "name": "stderr",
          "text": [
            "995it [00:00, 1093.12it/s]\n"
          ]
        },
        {
          "output_type": "stream",
          "name": "stdout",
          "text": [
            " 43. loss: 0.095908\n"
          ]
        },
        {
          "output_type": "stream",
          "name": "stderr",
          "text": [
            "995it [00:00, 1090.01it/s]\n"
          ]
        },
        {
          "output_type": "stream",
          "name": "stdout",
          "text": [
            " 44. loss: 0.095629\n"
          ]
        },
        {
          "output_type": "stream",
          "name": "stderr",
          "text": [
            "995it [00:00, 1047.43it/s]\n"
          ]
        },
        {
          "output_type": "stream",
          "name": "stdout",
          "text": [
            " 45. loss: 0.094559\n"
          ]
        },
        {
          "output_type": "stream",
          "name": "stderr",
          "text": [
            "995it [00:00, 1096.64it/s]\n"
          ]
        },
        {
          "output_type": "stream",
          "name": "stdout",
          "text": [
            " 46. loss: 0.094293\n"
          ]
        },
        {
          "output_type": "stream",
          "name": "stderr",
          "text": [
            "995it [00:00, 1061.76it/s]\n"
          ]
        },
        {
          "output_type": "stream",
          "name": "stdout",
          "text": [
            " 47. loss: 0.094354\n"
          ]
        },
        {
          "output_type": "stream",
          "name": "stderr",
          "text": [
            "995it [00:00, 1015.44it/s]\n"
          ]
        },
        {
          "output_type": "stream",
          "name": "stdout",
          "text": [
            " 48. loss: 0.093735\n"
          ]
        },
        {
          "output_type": "stream",
          "name": "stderr",
          "text": [
            "995it [00:00, 1081.62it/s]\n"
          ]
        },
        {
          "output_type": "stream",
          "name": "stdout",
          "text": [
            " 49. loss: 0.093223\n"
          ]
        },
        {
          "output_type": "stream",
          "name": "stderr",
          "text": [
            "995it [00:00, 1093.24it/s]\n"
          ]
        },
        {
          "output_type": "stream",
          "name": "stdout",
          "text": [
            " 50. loss: 0.092508\n"
          ]
        },
        {
          "output_type": "stream",
          "name": "stderr",
          "text": [
            "995it [00:00, 1063.62it/s]\n"
          ]
        },
        {
          "output_type": "stream",
          "name": "stdout",
          "text": [
            " 51. loss: 0.091879\n"
          ]
        },
        {
          "output_type": "stream",
          "name": "stderr",
          "text": [
            "995it [00:00, 1044.88it/s]\n"
          ]
        },
        {
          "output_type": "stream",
          "name": "stdout",
          "text": [
            " 52. loss: 0.091181\n"
          ]
        },
        {
          "output_type": "stream",
          "name": "stderr",
          "text": [
            "995it [00:00, 1016.65it/s]\n"
          ]
        },
        {
          "output_type": "stream",
          "name": "stdout",
          "text": [
            " 53. loss: 0.090425\n"
          ]
        },
        {
          "output_type": "stream",
          "name": "stderr",
          "text": [
            "995it [00:00, 1082.80it/s]\n"
          ]
        },
        {
          "output_type": "stream",
          "name": "stdout",
          "text": [
            " 54. loss: 0.089576\n"
          ]
        },
        {
          "output_type": "stream",
          "name": "stderr",
          "text": [
            "995it [00:00, 1082.79it/s]\n"
          ]
        },
        {
          "output_type": "stream",
          "name": "stdout",
          "text": [
            " 55. loss: 0.088861\n"
          ]
        },
        {
          "output_type": "stream",
          "name": "stderr",
          "text": [
            "995it [00:00, 1100.61it/s]\n"
          ]
        },
        {
          "output_type": "stream",
          "name": "stdout",
          "text": [
            " 56. loss: 0.088443\n"
          ]
        },
        {
          "output_type": "stream",
          "name": "stderr",
          "text": [
            "995it [00:00, 1031.18it/s]\n"
          ]
        },
        {
          "output_type": "stream",
          "name": "stdout",
          "text": [
            " 57. loss: 0.087823\n"
          ]
        },
        {
          "output_type": "stream",
          "name": "stderr",
          "text": [
            "995it [00:00, 1020.40it/s]\n"
          ]
        },
        {
          "output_type": "stream",
          "name": "stdout",
          "text": [
            " 58. loss: 0.087244\n"
          ]
        },
        {
          "output_type": "stream",
          "name": "stderr",
          "text": [
            "995it [00:00, 1011.75it/s]\n"
          ]
        },
        {
          "output_type": "stream",
          "name": "stdout",
          "text": [
            " 59. loss: 0.086793\n"
          ]
        },
        {
          "output_type": "stream",
          "name": "stderr",
          "text": [
            "995it [00:00, 1045.24it/s]\n"
          ]
        },
        {
          "output_type": "stream",
          "name": "stdout",
          "text": [
            " 60. loss: 0.086256\n"
          ]
        },
        {
          "output_type": "stream",
          "name": "stderr",
          "text": [
            "995it [00:00, 1021.28it/s]\n"
          ]
        },
        {
          "output_type": "stream",
          "name": "stdout",
          "text": [
            " 61. loss: 0.085858\n"
          ]
        },
        {
          "output_type": "stream",
          "name": "stderr",
          "text": [
            "995it [00:00, 1015.30it/s]\n"
          ]
        },
        {
          "output_type": "stream",
          "name": "stdout",
          "text": [
            " 62. loss: 0.085316\n"
          ]
        },
        {
          "output_type": "stream",
          "name": "stderr",
          "text": [
            "995it [00:00, 1000.24it/s]\n"
          ]
        },
        {
          "output_type": "stream",
          "name": "stdout",
          "text": [
            " 63. loss: 0.084899\n"
          ]
        },
        {
          "output_type": "stream",
          "name": "stderr",
          "text": [
            "995it [00:01, 989.44it/s] \n"
          ]
        },
        {
          "output_type": "stream",
          "name": "stdout",
          "text": [
            " 64. loss: 0.084501\n"
          ]
        },
        {
          "output_type": "stream",
          "name": "stderr",
          "text": [
            "995it [00:00, 1023.98it/s]\n"
          ]
        },
        {
          "output_type": "stream",
          "name": "stdout",
          "text": [
            " 65. loss: 0.084129\n"
          ]
        },
        {
          "output_type": "stream",
          "name": "stderr",
          "text": [
            "995it [00:00, 1012.78it/s]\n"
          ]
        },
        {
          "output_type": "stream",
          "name": "stdout",
          "text": [
            " 66. loss: 0.083707\n"
          ]
        },
        {
          "output_type": "stream",
          "name": "stderr",
          "text": [
            "995it [00:01, 982.62it/s]\n"
          ]
        },
        {
          "output_type": "stream",
          "name": "stdout",
          "text": [
            " 67. loss: 0.083442\n"
          ]
        },
        {
          "output_type": "stream",
          "name": "stderr",
          "text": [
            "995it [00:00, 1023.66it/s]\n"
          ]
        },
        {
          "output_type": "stream",
          "name": "stdout",
          "text": [
            " 68. loss: 0.083045\n"
          ]
        },
        {
          "output_type": "stream",
          "name": "stderr",
          "text": [
            "995it [00:01, 915.23it/s]\n"
          ]
        },
        {
          "output_type": "stream",
          "name": "stdout",
          "text": [
            " 69. loss: 0.082692\n"
          ]
        },
        {
          "output_type": "stream",
          "name": "stderr",
          "text": [
            "995it [00:01, 664.30it/s]\n"
          ]
        },
        {
          "output_type": "stream",
          "name": "stdout",
          "text": [
            " 70. loss: 0.082245\n"
          ]
        },
        {
          "output_type": "stream",
          "name": "stderr",
          "text": [
            "995it [00:01, 869.11it/s] \n"
          ]
        },
        {
          "output_type": "stream",
          "name": "stdout",
          "text": [
            " 71. loss: 0.081524\n"
          ]
        },
        {
          "output_type": "stream",
          "name": "stderr",
          "text": [
            "995it [00:01, 984.21it/s]\n"
          ]
        },
        {
          "output_type": "stream",
          "name": "stdout",
          "text": [
            " 72. loss: 0.080762\n"
          ]
        },
        {
          "output_type": "stream",
          "name": "stderr",
          "text": [
            "995it [00:00, 1042.50it/s]\n"
          ]
        },
        {
          "output_type": "stream",
          "name": "stdout",
          "text": [
            " 73. loss: 0.080523\n"
          ]
        },
        {
          "output_type": "stream",
          "name": "stderr",
          "text": [
            "995it [00:00, 1116.03it/s]\n"
          ]
        },
        {
          "output_type": "stream",
          "name": "stdout",
          "text": [
            " 74. loss: 0.079810\n"
          ]
        },
        {
          "output_type": "stream",
          "name": "stderr",
          "text": [
            "995it [00:00, 1104.77it/s]\n"
          ]
        },
        {
          "output_type": "stream",
          "name": "stdout",
          "text": [
            " 75. loss: 0.079249\n"
          ]
        },
        {
          "output_type": "stream",
          "name": "stderr",
          "text": [
            "995it [00:00, 1091.89it/s]\n"
          ]
        },
        {
          "output_type": "stream",
          "name": "stdout",
          "text": [
            " 76. loss: 0.078891\n"
          ]
        },
        {
          "output_type": "stream",
          "name": "stderr",
          "text": [
            "995it [00:00, 1064.88it/s]\n"
          ]
        },
        {
          "output_type": "stream",
          "name": "stdout",
          "text": [
            " 77. loss: 0.078494\n"
          ]
        },
        {
          "output_type": "stream",
          "name": "stderr",
          "text": [
            "995it [00:00, 1056.39it/s]\n"
          ]
        },
        {
          "output_type": "stream",
          "name": "stdout",
          "text": [
            " 78. loss: 0.078026\n"
          ]
        },
        {
          "output_type": "stream",
          "name": "stderr",
          "text": [
            "995it [00:00, 1042.58it/s]\n"
          ]
        },
        {
          "output_type": "stream",
          "name": "stdout",
          "text": [
            " 79. loss: 0.077592\n"
          ]
        },
        {
          "output_type": "stream",
          "name": "stderr",
          "text": [
            "995it [00:00, 1030.01it/s]\n"
          ]
        },
        {
          "output_type": "stream",
          "name": "stdout",
          "text": [
            " 80. loss: 0.077199\n"
          ]
        },
        {
          "output_type": "stream",
          "name": "stderr",
          "text": [
            "995it [00:00, 1005.57it/s]\n"
          ]
        },
        {
          "output_type": "stream",
          "name": "stdout",
          "text": [
            " 81. loss: 0.077488\n"
          ]
        },
        {
          "output_type": "stream",
          "name": "stderr",
          "text": [
            "995it [00:00, 1010.79it/s]\n"
          ]
        },
        {
          "output_type": "stream",
          "name": "stdout",
          "text": [
            " 82. loss: 0.077055\n"
          ]
        },
        {
          "output_type": "stream",
          "name": "stderr",
          "text": [
            "995it [00:01, 968.98it/s]\n"
          ]
        },
        {
          "output_type": "stream",
          "name": "stdout",
          "text": [
            " 83. loss: 0.077616\n"
          ]
        },
        {
          "output_type": "stream",
          "name": "stderr",
          "text": [
            "995it [00:00, 995.11it/s]\n"
          ]
        },
        {
          "output_type": "stream",
          "name": "stdout",
          "text": [
            " 84. loss: 0.075888\n"
          ]
        },
        {
          "output_type": "stream",
          "name": "stderr",
          "text": [
            "995it [00:01, 987.89it/s]\n"
          ]
        },
        {
          "output_type": "stream",
          "name": "stdout",
          "text": [
            " 85. loss: 0.076823\n"
          ]
        },
        {
          "output_type": "stream",
          "name": "stderr",
          "text": [
            "995it [00:00, 1034.95it/s]\n"
          ]
        },
        {
          "output_type": "stream",
          "name": "stdout",
          "text": [
            " 86. loss: 0.075987\n"
          ]
        },
        {
          "output_type": "stream",
          "name": "stderr",
          "text": [
            "995it [00:00, 1041.28it/s]\n"
          ]
        },
        {
          "output_type": "stream",
          "name": "stdout",
          "text": [
            " 87. loss: 0.075716\n"
          ]
        },
        {
          "output_type": "stream",
          "name": "stderr",
          "text": [
            "995it [00:00, 1049.75it/s]\n"
          ]
        },
        {
          "output_type": "stream",
          "name": "stdout",
          "text": [
            " 88. loss: 0.076744\n"
          ]
        },
        {
          "output_type": "stream",
          "name": "stderr",
          "text": [
            "995it [00:00, 1055.59it/s]\n"
          ]
        },
        {
          "output_type": "stream",
          "name": "stdout",
          "text": [
            " 89. loss: 0.076943\n"
          ]
        },
        {
          "output_type": "stream",
          "name": "stderr",
          "text": [
            "995it [00:01, 974.21it/s]\n"
          ]
        },
        {
          "output_type": "stream",
          "name": "stdout",
          "text": [
            " 90. loss: 0.075585\n"
          ]
        },
        {
          "output_type": "stream",
          "name": "stderr",
          "text": [
            "995it [00:01, 989.62it/s]\n"
          ]
        },
        {
          "output_type": "stream",
          "name": "stdout",
          "text": [
            " 91. loss: 0.075958\n"
          ]
        },
        {
          "output_type": "stream",
          "name": "stderr",
          "text": [
            "995it [00:00, 1027.06it/s]\n"
          ]
        },
        {
          "output_type": "stream",
          "name": "stdout",
          "text": [
            " 92. loss: 0.075700\n"
          ]
        },
        {
          "output_type": "stream",
          "name": "stderr",
          "text": [
            "995it [00:00, 1002.89it/s]\n"
          ]
        },
        {
          "output_type": "stream",
          "name": "stdout",
          "text": [
            " 93. loss: 0.075356\n"
          ]
        },
        {
          "output_type": "stream",
          "name": "stderr",
          "text": [
            "995it [00:00, 1031.31it/s]\n"
          ]
        },
        {
          "output_type": "stream",
          "name": "stdout",
          "text": [
            " 94. loss: 0.075677\n"
          ]
        },
        {
          "output_type": "stream",
          "name": "stderr",
          "text": [
            "995it [00:00, 1001.72it/s]\n"
          ]
        },
        {
          "output_type": "stream",
          "name": "stdout",
          "text": [
            " 95. loss: 0.074869\n"
          ]
        },
        {
          "output_type": "stream",
          "name": "stderr",
          "text": [
            "995it [00:00, 997.05it/s] \n"
          ]
        },
        {
          "output_type": "stream",
          "name": "stdout",
          "text": [
            " 96. loss: 0.074145\n"
          ]
        },
        {
          "output_type": "stream",
          "name": "stderr",
          "text": [
            "995it [00:00, 1031.15it/s]\n"
          ]
        },
        {
          "output_type": "stream",
          "name": "stdout",
          "text": [
            " 97. loss: 0.073825\n"
          ]
        },
        {
          "output_type": "stream",
          "name": "stderr",
          "text": [
            "995it [00:00, 1087.48it/s]\n"
          ]
        },
        {
          "output_type": "stream",
          "name": "stdout",
          "text": [
            " 98. loss: 0.073423\n"
          ]
        },
        {
          "output_type": "stream",
          "name": "stderr",
          "text": [
            "995it [00:00, 1074.93it/s]\n"
          ]
        },
        {
          "output_type": "stream",
          "name": "stdout",
          "text": [
            " 99. loss: 0.073349\n"
          ]
        },
        {
          "output_type": "stream",
          "name": "stderr",
          "text": [
            "995it [00:00, 1022.73it/s]"
          ]
        },
        {
          "output_type": "stream",
          "name": "stdout",
          "text": [
            " 100. loss: 0.072715\n"
          ]
        },
        {
          "output_type": "stream",
          "name": "stderr",
          "text": [
            "\n"
          ]
        }
      ]
    },
    {
      "cell_type": "code",
      "source": [
        "model.eval()\n",
        "model.clear()\n",
        "\n",
        "predict = []\n",
        "for x, _ in train_data:\n",
        "  predict += [model(x).detach().numpy().item(-1)]\n"
      ],
      "metadata": {
        "colab": {
          "base_uri": "https://localhost:8080/"
        },
        "id": "kCTFpnsdhjmw",
        "outputId": "9a2d6b3a-2cb8-4078-fee4-e9760e9a048d"
      },
      "execution_count": null,
      "outputs": [
        {
          "output_type": "stream",
          "name": "stderr",
          "text": [
            "<ipython-input-3-492d5e9e5777>:23: UserWarning: To copy construct from a tensor, it is recommended to use sourceTensor.clone().detach() or sourceTensor.clone().detach().requires_grad_(True), rather than torch.tensor(sourceTensor).\n",
            "  self.line2.push(torch.tensor(out2))\n"
          ]
        }
      ]
    },
    {
      "cell_type": "code",
      "source": [
        "fig, axes = plt.subplots(1, 2)\n",
        "fig.tight_layout()\n",
        "\n",
        "axes[0].set_title('Loss function')\n",
        "axes[0].set_xlabel('Epoch')\n",
        "axes[0].set_ylabel('MSE')\n",
        "axes[0].plot(train_loss)\n",
        "\n",
        "axes[1].set_title('Signals')\n",
        "axes[1].plot(uk)\n",
        "axes[1].plot(yk)\n",
        "axes[1].plot(predict, '-')\n",
        "\n",
        "plt.show()\n",
        "\n",
        "# blue - управляющий сигнал\n",
        "# orange - идеальный выход\n",
        "# green - результат обучения"
      ],
      "metadata": {
        "colab": {
          "base_uri": "https://localhost:8080/",
          "height": 323
        },
        "id": "gHJLT9Dwhcvk",
        "outputId": "9ac92b2a-f496-4b05-ab17-e8a49e760552"
      },
      "execution_count": null,
      "outputs": [
        {
          "output_type": "display_data",
          "data": {
            "text/plain": [
              "<Figure size 432x288 with 2 Axes>"
            ],
            "image/png": "[encoded data removed]"
          },
          "metadata": {
            "needs_background": "light"
          }
        }
      ]
    },
    {
      "cell_type": "markdown",
      "source": [
        "200 эпох  \n",
        "![image.png](data:image/png;base64,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)"
      ],
      "metadata": {
        "id": "Zb2LGu76qbqS"
      }
    },
    {
      "cell_type": "markdown",
      "source": [
        "500 эпох  \n",
        "![image.png](data:image/png;base64,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)"
      ],
      "metadata": {
        "id": "Ois5I3TRsdvL"
      }
    },
    {
      "cell_type": "code",
      "source": [],
      "metadata": {
        "id": "kuaTvRa5qdXn"
      },
      "execution_count": null,
      "outputs": []
    }
  ]
}